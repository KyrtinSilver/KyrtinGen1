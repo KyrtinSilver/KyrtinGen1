{
  "cells": [
    {
      "cell_type": "markdown",
      "metadata": {
        "id": "51L4ynq8qPLR"
      },
      "source": [
        "# SDXL Fine-tuning on Replicate\n",
        "\n",
        "Last week, the team at Stability AI open-sourced [SDXL](https://replicate.com/blog/run-sdxl-with-an-api), the newest and most powerful version of Stable Diffusion yet. Replicate was ready from day one with a hosted version of SDXL that you can [run from the web](https://replicate.com/stability-ai/sdxl) or using our [cloud API](https://replicate.com/blog/run-sdxl-with-an-api).\n",
        "\n",
        "Today, we're following up to announce fine-tuning support for SDXL 1.0. In this blog post, we'll show you how to train SDXL on your own images with one line of code and publish the fine-tuned result as your own hosted public or private model."
      ]
    },
    {
      "cell_type": "code",
      "execution_count": null,
      "metadata": {
        "id": "gLWKQvpeqAHE"
      },
      "outputs": [],
      "source": [
        "!pip install replicate\n",
        "import os\n",
        "import replicate\n",
        "from google.colab import output\n",
        "output.clear()"
      ]
    },
    {
      "cell_type": "markdown",
      "metadata": {
        "id": "iVf3RWPKqKeb"
      },
      "source": [
        "**DO NOT REPLACE ANY OF THE TEXT**. A window pops up below the code when you run it, enter your personal API token there."
      ]
    },
    {
      "cell_type": "code",
      "execution_count": null,
      "metadata": {
        "colab": {
          "base_uri": "https://localhost:8080/"
        },
        "id": "NuZ8DpPcqJ0w",
        "outputId": "2b7b425f-8692-4fbc-c403-22cd9dbdd116"
      },
      "outputs": [
        {
          "name": "stdout",
          "output_type": "stream",
          "text": [
            "··········\n"
          ]
        }
      ],
      "source": [
        "# get your token from https://replicate.com/account\n",
        "from getpass import getpass\n",
        "\n",
        "REPLICATE_API_TOKEN = getpass()\n",
        "os.environ[\"REPLICATE_API_TOKEN\"] = REPLICATE_API_TOKEN"
      ]
    },
    {
      "cell_type": "markdown",
      "metadata": {
        "id": "mNepKK_OquqM"
      },
      "source": [
        "## Prepare your training images\n",
        "\n",
        "The training API expects a zip file containing your training images. A handful of images (5-6) is enough to fine-tune SDXL on a single person, but you might need more if your training subject is more complex or the images are very different. Keep the following guidelines in mind when preparing your images:\n",
        "\n",
        "- Images can be of yourself, your pet, your favorite stuffed animal, or any unique object. For best results, your images should contain only the subject itself, with a minimum of background noise or other objects.\n",
        "- Images can be in JPEG or PNG format.\n",
        "- Dimensions and size don't matter.\n",
        "- Filenames don't matter.\n",
        "- Do not use images of other people without their consent.\n",
        "\n",
        "Put your images in a folder and zip it up. The directory structure of the zip file doesn't matter:\n",
        "\n",
        "Create a public GitHub repository, upload your zip file containing the training images to that repository. Once uploaded, navigate to that zip file in the repository, and click the \"raw\" button on the side of your screen.\n",
        "\n",
        "Clicking that button will begin a download of the file. Navigate to the Download page in your browser, and it will show you the URL you need to copy to this Colab in the next step. The url will begin with:\n",
        "https://raw.githubusercontent.com\n",
        "\n",
        "You can use a private repo, and if you do the url will end with a token."
      ]
    },
    {
      "cell_type": "markdown",
      "metadata": {
        "id": "A7MAt8gZq4h1"
      },
      "source": [
        "\n",
        "## Create a model\n",
        "\n",
        "You also need to create a Replicate model that will be the destination for the trained SDXL version. Go to [replicate.com/create](https://replicate.com/create) to create the model. In the example below we call it `my-name/my-model`.\n",
        "\n",
        "You can make your model public or private. If your model is private, only you will be able to run it. If your model is public, anyone will be able to run it, but only you will be able to update it."
      ]
    },
    {
      "cell_type": "markdown",
      "metadata": {
        "id": "jr8j63kFqijO"
      },
      "source": [
        "## Start the training"
      ]
    },
    {
      "cell_type": "code",
      "execution_count": null,
      "metadata": {
        "id": "0AefVmqxLIjY"
      },
      "outputs": [],
      "source": [
        "import replicate\n",
        "\n",
        "training = replicate.trainings.create(\n",
        "    version=\"stability-ai/sdxl:8beff3369e81422112d93b89ca01426147de542cd4684c244b673b105188fe5f\",\n",
        "    input={\n",
        "        \"input_images\": \"Replace this with your raw zip file URL from GitHub\", #edit this\n",
        "        \"use_face_detection_instead\": True,\n",
        "        \"train_batch_size\": 4,\n",
        "        \"max_train_steps\": 1000\n",
        "    },\n",
        "    destination=\"Replace this with your ID and model info\") #edit this"
      ]
    },
    {
      "cell_type": "markdown",
      "metadata": {
        "id": "HGiaTo2frZ8I"
      },
      "source": [
        "## Monitor training progress\n",
        "\n",
        "To follow the progress of the training job, visit [replicate.com/trainings](https://replicate.com/trainings) or inspect the training programmatically. You can monitor the full logs of the training process and troubleshoot any errors here."
      ]
    },
    {
      "cell_type": "code",
      "execution_count": null,
      "metadata": {
        "colab": {
          "base_uri": "https://localhost:8080/"
        },
        "id": "YkRQwY-AtNu2",
        "outputId": "e166efd5-5ac2-4b03-cad0-e34b65be1db6"
      },
      "outputs": [
        {
          "output_type": "stream",
          "name": "stdout",
          "text": [
            "succeeded\n"
          ]
        }
      ],
      "source": [
        "training.reload()\n",
        "print(training.status)\n",
        "if training.status == 'processing':\n",
        "  print(\"\\n\".join(training.logs.split(\"\\n\")[-10:]))"
      ]
    },
    {
      "cell_type": "markdown",
      "metadata": {
        "id": "5kk3zlqkrl8M"
      },
      "source": [
        "## Run the model\n",
        "\n",
        "Go to https://replicate.com/models to select your model, and run it via your own prompts, as well as to download your model weights.\n"
      ]
    },
    {
      "cell_type": "markdown",
      "metadata": {
        "id": "grJ6P-xFrs9K"
      },
      "source": [
        "The trained concept is named `TOK` by default, but you can change that by setting `token_string` and `caption_prefix` inputs during the training process."
      ]
    },
    {
      "cell_type": "code",
      "execution_count": null,
      "metadata": {
        "id": "0YqMMqw-rd5V"
      },
      "outputs": [],
      "source": []
    }
  ],
  "metadata": {
    "colab": {
      "provenance": []
    },
    "kernelspec": {
      "display_name": "Python 3",
      "name": "python3"
    },
    "language_info": {
      "name": "python"
    }
  },
  "nbformat": 4,
  "nbformat_minor": 0
}